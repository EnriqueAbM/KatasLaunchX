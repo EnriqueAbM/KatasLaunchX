{
 "cells": [
  {
   "cell_type": "markdown",
   "metadata": {},
   "source": [
    "## Ejercicio: Uso de funciones en Python\n",
    "### Ejercicio 1: Trabajar con argumentos en funciones\n",
    "\n",
    "Comienza por crear una función que necesite tres lecturas de combustible y devuelva un informe:"
   ]
  },
  {
   "cell_type": "code",
   "execution_count": 43,
   "metadata": {},
   "outputs": [],
   "source": [
    "def fuel_readings(reading_1, reading_2, reading_3):\n",
    "    return f\"\"\"FUEL REPORT\n",
    "    {\"-\" * 40}\n",
    "    Tank levels\n",
    "    {\".\" * 40}\n",
    "    Tank 1: {reading_1}\n",
    "    Tank 2: {reading_2}\n",
    "    Tank 3: {reading_3}\n",
    "\n",
    "    Fuel average: {(reading_1 + reading_2 + reading_3) * 1/3}\n",
    "    \"\"\"\n",
    "    \n"
   ]
  },
  {
   "cell_type": "markdown",
   "metadata": {},
   "source": [
    "Ahora que hemos definido la función de informes, vamos a comprobarlo. Para esta misión, los tanques no están llenos:"
   ]
  },
  {
   "cell_type": "code",
   "execution_count": 44,
   "metadata": {},
   "outputs": [
    {
     "name": "stdout",
     "output_type": "stream",
     "text": [
      "FUEL REPORT\n",
      "    ----------------------------------------\n",
      "    Tank levels\n",
      "    ........................................\n",
      "    Tank 1: 0\n",
      "    Tank 2: 0\n",
      "    Tank 3: 0\n",
      "\n",
      "    Fuel average: 0.0\n",
      "    \n"
     ]
    }
   ],
   "source": [
    "print(fuel_readings(0,0,0))"
   ]
  },
  {
   "cell_type": "markdown",
   "metadata": {},
   "source": [
    "En lugar de simplemente crear el informe, la función también está calculando el promedio. Mejora la legibilidad extrayendo el cálculo promedio de la función en una nueva función para que el promedio se pueda hacer de forma independiente:"
   ]
  },
  {
   "cell_type": "code",
   "execution_count": 45,
   "metadata": {},
   "outputs": [],
   "source": [
    "def fuel_average(reading_1, reading_2, reading_3):\n",
    "    return (reading_1 + reading_2 + reading_3) * 1/3"
   ]
  },
  {
   "cell_type": "markdown",
   "metadata": {},
   "source": [
    "Ahora actualiza la función de informes para llamando a la nueva función del promedio:"
   ]
  },
  {
   "cell_type": "code",
   "execution_count": 46,
   "metadata": {},
   "outputs": [
    {
     "name": "stdout",
     "output_type": "stream",
     "text": [
      "FUEL REPORT\n",
      "    ----------------------------------------\n",
      "    Tank levels\n",
      "    ........................................\n",
      "    Tank 1: 10\n",
      "    Tank 2: 40\n",
      "    Tank 3: 90\n",
      "\n",
      "    Fuel average: 46.666666666666664\n",
      "    \n"
     ]
    }
   ],
   "source": [
    "def fuel_readings(reading_1, reading_2, reading_3):\n",
    "    return f\"\"\"FUEL REPORT\n",
    "    {\"-\" * 40}\n",
    "    Tank levels\n",
    "    {\".\" * 40}\n",
    "    Tank 1: {reading_1}\n",
    "    Tank 2: {reading_2}\n",
    "    Tank 3: {reading_3}\n",
    "\n",
    "    Fuel average: {fuel_average(reading_1, reading_2, reading_3)}\n",
    "    \"\"\"\n",
    "\n",
    "print(fuel_readings(10,40,90))"
   ]
  },
  {
   "cell_type": "markdown",
   "metadata": {},
   "source": [
    "## Ejercicio 2: Trabajo con argumentos de palabra clave\n",
    "### Ejercicio : Trabajar con argumentos de palabras clave en funciones\n",
    "\n",
    "En este ejercicio, construirás un informe de cohete que requiere varias piezas de información, como el tiempo hasta el destino, el combustible a la izquierda y el nombre del destino. Comienza por crear una función que creará un informe preciso de la misión:"
   ]
  },
  {
   "cell_type": "code",
   "execution_count": 47,
   "metadata": {},
   "outputs": [
    {
     "name": "stdout",
     "output_type": "stream",
     "text": [
      "Mission report\n",
      "    Pre-launching time: 20\n",
      "    Flight time: 30\n",
      "    Destiny: Mars\n",
      "    External tank fuel level: 340\n",
      "    Internal tank fuel level: 204\n"
     ]
    }
   ],
   "source": [
    "def mission_report(prelaunching_time, flight_time, destiny, external_tank, internal_tank):\n",
    "    return f\"\"\"Mission report\n",
    "    Pre-launching time: {prelaunching_time}\n",
    "    Flight time: {flight_time}\n",
    "    Destiny: {destiny}\n",
    "    External tank fuel level: {external_tank}\n",
    "    Internal tank fuel level: {internal_tank}\"\"\"\n",
    "\n",
    "print(mission_report(prelaunching_time = 20, flight_time = 30, destiny = 'Mars', external_tank = 340, internal_tank = 204))"
   ]
  },
  {
   "cell_type": "markdown",
   "metadata": {},
   "source": [
    "La función es problemática porque no se puede adaptar para minutos adicionales o tanques adicionales de combustible. Hazlo más flexible permitiendo cualquier número de pasos basados en el tiempo y cualquier número de tanques. En lugar de usar `*args` y `**kwargs`, aprovecha el hecho de que puedes usar cualquier nombre que desees. Asegurate que la función sea más legible mediante el uso de nombres de variables que están asociados con las entradas, como `*minutes` y `**fuel_reservoirs`:"
   ]
  },
  {
   "cell_type": "code",
   "execution_count": 62,
   "metadata": {},
   "outputs": [],
   "source": [
    "def mission_report(destiny, *minutes, **fuel_reservoirs):\n",
    "\n",
    "    fuel_string = ''\n",
    "\n",
    "    for key in fuel_reservoirs.keys():\n",
    "        fuel_string += str(key) + \" tank levels: \" + str(fuel_reservoirs[key]) + \"\\n\"\n",
    "\n",
    "    return f\"\"\"Mission report\n",
    "    {\"-\" * 40}\n",
    "    Total time: {sum(minutes)} minutes\n",
    "    Destiny: {destiny}\n",
    "    \"\"\" + fuel_string"
   ]
  },
  {
   "cell_type": "code",
   "execution_count": 63,
   "metadata": {},
   "outputs": [
    {
     "name": "stdout",
     "output_type": "stream",
     "text": [
      "Mission report\n",
      "    ----------------------------------------\n",
      "    Total time: 135 minutes\n",
      "    Destiny: Mars\n",
      "    Tank_1 tank levels: 230\n",
      "Tank_2 tank levels: 598\n",
      "Tank_3 tank levels: 208\n",
      "\n"
     ]
    }
   ],
   "source": [
    "\n",
    "print(mission_report('Mars', 23, 45, 67, Tank_1 = 230, Tank_2 = 598, Tank_3 = 208))"
   ]
  },
  {
   "cell_type": "markdown",
   "metadata": {},
   "source": [
    "Debido a que el combustible que queda en los tanques es específico de cada tanque, actualiza la función para usar el nombre de cada tanque en el informe:"
   ]
  },
  {
   "cell_type": "code",
   "execution_count": 65,
   "metadata": {},
   "outputs": [
    {
     "name": "stdout",
     "output_type": "stream",
     "text": [
      "Mission report\n",
      "    ----------------------------------------\n",
      "    Total time: 135 minutes\n",
      "    Destiny: Mars\n",
      "    Tank_1 tank levels: 230\n",
      "Tank_2 tank levels: 598\n",
      "Tank_3 tank levels: 208\n",
      "\n",
      "    \n"
     ]
    }
   ],
   "source": [
    "def mission_report(destiny, *minutes, **fuel_reservoirs):\n",
    "\n",
    "    fuel_string = ''\n",
    "\n",
    "    for key in fuel_reservoirs.keys():\n",
    "        fuel_string += str(key) + \" tank levels: \" + str(fuel_reservoirs[key]) + \"\\n\"\n",
    "\n",
    "    return f\"\"\"Mission report\n",
    "    {\"-\" * 40}\n",
    "    Total time: {sum(minutes)} minutes\n",
    "    Destiny: {destiny}\n",
    "    {fuel_string}\n",
    "    \"\"\" \n",
    "    \n",
    "print(mission_report('Mars', 23, 45, 67, Tank_1 = 230, Tank_2 = 598, Tank_3 = 208))"
   ]
  }
 ],
 "metadata": {
  "interpreter": {
   "hash": "fc06adf891379eed6b42fda587143c29a5f68e6274a29eb7181b95082334dfdb"
  },
  "kernelspec": {
   "display_name": "Python 3.8.8 ('base')",
   "language": "python",
   "name": "python3"
  },
  "language_info": {
   "codemirror_mode": {
    "name": "ipython",
    "version": 3
   },
   "file_extension": ".py",
   "mimetype": "text/x-python",
   "name": "python",
   "nbconvert_exporter": "python",
   "pygments_lexer": "ipython3",
   "version": "3.8.8"
  },
  "orig_nbformat": 4
 },
 "nbformat": 4,
 "nbformat_minor": 2
}
